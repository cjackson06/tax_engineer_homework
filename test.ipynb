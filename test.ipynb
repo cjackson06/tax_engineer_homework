{
 "cells": [
  {
   "cell_type": "code",
   "execution_count": 2,
   "id": "2673c890",
   "metadata": {},
   "outputs": [
    {
     "name": "stdout",
     "output_type": "stream",
     "text": [
      "['Jc', '6c', '8d', '2d', '9c', '10s', '3d', '1s', '9h', 'Jd', '1h', 'Kh', '10c', '7c', 'Qd', 'Jh', '4s', '3h', '4c', '10h', 'Qc', 'Kc', '2c', '5d', '5s', '1c', '5c', 'Qs', '3s', '8c', '4h', '1d', 'Qh', '3c', '9s', '2h', '6h', 'Kd', 'Ks', '8s', '6d', '10d', 'Js', '5h', '4d', '6s', '8h', '7s', '7h', '9d', '7d', '2s']\n"
     ]
    }
   ],
   "source": [
    "import random\n",
    "SUITS = (\"c\", \"d\", \"h\", \"s\")\n",
    "CARDS = tuple(map(str, range(1, 11))) + (\"J\", \"Q\", \"K\")\n",
    "deck = [card + suit for suit in SUITS for card in CARDS]\n",
    "random.shuffle(deck)\n",
    "\n",
    "print(deck)"
   ]
  },
  {
   "cell_type": "code",
   "execution_count": 1,
   "id": "40015876",
   "metadata": {},
   "outputs": [
    {
     "name": "stderr",
     "output_type": "stream",
     "text": [
      "usage: ipykernel_launcher.py [-h] [--auto] [--output [OUTPUT]] [--suit-up]\n",
      "ipykernel_launcher.py: error: unrecognized arguments: --f=/run/user/1000/jupyter/runtime/kernel-v3226b7e65b30e92aecaaf230e6fb24bb07e2442c6.json\n"
     ]
    },
    {
     "ename": "SystemExit",
     "evalue": "2",
     "output_type": "error",
     "traceback": [
      "An exception has occurred, use %tb to see the full traceback.\n",
      "\u001b[31mSystemExit\u001b[39m\u001b[31m:\u001b[39m 2\n"
     ]
    },
    {
     "name": "stderr",
     "output_type": "stream",
     "text": [
      "/home/corsavius/Documents/git/tax_engineer_homework/.venv/lib/python3.11/site-packages/IPython/core/interactiveshell.py:3680: UserWarning: To exit: use 'exit', 'quit', or Ctrl-D.\n",
      "  warn(\"To exit: use 'exit', 'quit', or Ctrl-D.\", stacklevel=1)\n"
     ]
    }
   ],
   "source": [
    "from helper_functions import get_shuffled_deck, split_deck\n",
    "from war_game import play_round\n",
    "deck = get_shuffled_deck()\n",
    "player_1_hand, player_2_hand = split_deck(deck)\n",
    "\n",
    "play_round(player_1_hand, player_2_hand, [], [], [], [], deal=1)"
   ]
  }
 ],
 "metadata": {
  "kernelspec": {
   "display_name": ".venv",
   "language": "python",
   "name": "python3"
  },
  "language_info": {
   "codemirror_mode": {
    "name": "ipython",
    "version": 3
   },
   "file_extension": ".py",
   "mimetype": "text/x-python",
   "name": "python",
   "nbconvert_exporter": "python",
   "pygments_lexer": "ipython3",
   "version": "3.11.10"
  }
 },
 "nbformat": 4,
 "nbformat_minor": 5
}
